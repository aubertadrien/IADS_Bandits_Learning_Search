{
  "nbformat": 4,
  "nbformat_minor": 0,
  "metadata": {
    "colab": {
      "name": "Copie de Untitled0.ipynb",
      "provenance": [],
      "authorship_tag": "ABX9TyO3rf6beiGKhiPrPHzG6RKh",
      "include_colab_link": true
    },
    "kernelspec": {
      "name": "python3",
      "display_name": "Python 3"
    },
    "language_info": {
      "name": "python"
    }
  },
  "cells": [
    {
      "cell_type": "markdown",
      "metadata": {
        "id": "view-in-github",
        "colab_type": "text"
      },
      "source": [
        "<a href=\"https://colab.research.google.com/github/aubertadrien/IADS_Bandits_Learning_Search/blob/main/Copie_de_Untitled0.ipynb\" target=\"_parent\"><img src=\"https://colab.research.google.com/assets/colab-badge.svg\" alt=\"Open In Colab\"/></a>"
      ]
    },
    {
      "cell_type": "code",
      "source": [
        "#1st: Upload the differents files on Colab on the left section\n",
        "\n",
        "#Run the file 'Main.py':\n",
        "#NB: This file is calling the other files\n",
        "!python \"Main.py\""
      ],
      "metadata": {
        "colab": {
          "base_uri": "https://localhost:8080/"
        },
        "id": "CfOCc3d5ktjn",
        "outputId": "87231876-c66d-47b6-82ff-426b1060d630"
      },
      "execution_count": null,
      "outputs": [
        {
          "output_type": "stream",
          "name": "stdout",
          "text": [
            "evaluate():\n",
            "BanditTestBatch: casesIDs: \n",
            "0 \n",
            "1 \n",
            "2 \n",
            "3 \n",
            "4 \n",
            "\n",
            "BanditTestBatch: numCases: 5\n",
            "BanditTestBatch: optimal reward: 1560.0\n",
            "BanditTestBatch: random reward: 1337.5\n",
            "Total repeats: 10\n",
            "\n",
            "Batch performance                By-case performance as: Sum rewards\n",
            "\n",
            "repeats    SumRew   Regret        case01   case02   case03   case04   case05\n",
            "\n",
            "      1   1361.00   199.00        249.00   227.00   137.00   245.00   503.00\n",
            "      2   1321.50   238.50        242.00   217.00   152.00   221.50   489.00\n",
            "      3   1335.67   224.33        248.33   223.33   149.67   215.00   499.33\n",
            "      4   1333.50   226.50        250.25   217.75   150.00   215.75   499.75\n",
            "      5   1327.00   233.00        250.00   218.40   150.20   210.60   497.80\n",
            "      6   1324.00   236.00        248.33   215.33   148.83   210.83   500.67\n",
            "      7   1330.71   229.29        249.14   218.71   151.14   213.43   498.29\n",
            "      8   1337.50   222.50        251.12   221.75   151.25   216.00   497.38\n",
            "      9   1334.56   225.44        251.33   223.00   147.89   216.11   496.22\n",
            "     10   1336.20   223.80        252.90   224.40   148.10   215.60   495.20\n",
            "\n",
            "evaluate(): DONE\n",
            "\n",
            "Your selected algorithm: reward: 1336.2\n"
          ]
        }
      ]
    }
  ]
}